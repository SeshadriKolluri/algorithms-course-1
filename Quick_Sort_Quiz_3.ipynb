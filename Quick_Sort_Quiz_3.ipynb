{
 "cells": [
  {
   "cell_type": "markdown",
   "metadata": {},
   "source": [
    "# Quiz 3 for Design and Analysis of Algorithms Course.\n",
    "\n",
    "This algorithm implements quick sort of an array with three different kinds of pivot element choices. \n",
    "* Always choose first element of each sub-array as the pivot element\n",
    "* Always choose last element of each sub-array as the pivot element\n",
    "* Choose the median of the first, last and middle elements of each sub array as the pivot element.\n",
    "\n",
    "It can be seen that the last method is more efficienct than the other two, for the relatively general case tested in this problem. "
   ]
  },
  {
   "cell_type": "code",
   "execution_count": 78,
   "metadata": {},
   "outputs": [
    {
     "name": "stdout",
     "output_type": "stream",
     "text": [
      "No. of comparisons in quick sort with FIRST element of each sub array as the pivot element: 162085\n",
      "No. of comparisons in quick sort with LAST element of each sub array as the pivot element: 164123\n",
      "No. of comparisons in quick sort with Median of first, last and middle elements of each sub array as the pivot element: 138382\n"
     ]
    }
   ],
   "source": [
    "import random\n",
    "def quick_sort(input_array,pivot_choice):\n",
    "    if len(input_array) < 2:\n",
    "        return (input_array,0)\n",
    "    else:\n",
    "        if(pivot_choice == 'last'):\n",
    "            pivot_index = len(input_array)-1\n",
    "            \n",
    "        elif(pivot_choice == 'median'):\n",
    "            if ((input_array[0] < input_array[int((len(input_array)-1)/2)]) == \n",
    "            (input_array[len(input_array)-1] > input_array[int((len(input_array)-1)/2)])):\n",
    "                pivot_index = int((len(input_array)-1)/2)\n",
    "                \n",
    "            elif ((input_array[0] < input_array[len(input_array)-1]) == \n",
    "             (input_array[len(input_array)-1] < input_array[int((len(input_array)-1)/2)])):\n",
    "                pivot_index = len(input_array)-1\n",
    "            else:\n",
    "                pivot_index = 0\n",
    "            #print('median '+ str(input_array[pivot_index]) + ' out of ' \n",
    "            #     + str((input_array[0], input_array[int((len(input_array)-1)/2)], input_array[len(input_array)-1])))\n",
    "        else:\n",
    "            pivot_index = 0\n",
    "        \n",
    "        if pivot_index > 0:\n",
    "            tmp = input_array[0]\n",
    "            input_array[0] = input_array[pivot_index]\n",
    "            input_array[pivot_index] = tmp\n",
    "            pivot_index = 0\n",
    "        \n",
    "        scan_boundary_index = 1\n",
    "        partition_boundary_index = 1\n",
    "        comparison_count = len(input_array)-1\n",
    "        #print(input_array,comparison_count)\n",
    "        while scan_boundary_index < len(input_array):\n",
    "            if(input_array[scan_boundary_index] > input_array[pivot_index]):\n",
    "                scan_boundary_index = scan_boundary_index + 1\n",
    "            else:\n",
    "                tmp = input_array[partition_boundary_index]\n",
    "                input_array[partition_boundary_index] = input_array[scan_boundary_index]\n",
    "                input_array[scan_boundary_index] = tmp\n",
    "                partition_boundary_index = partition_boundary_index + 1\n",
    "                scan_boundary_index = scan_boundary_index + 1\n",
    "                \n",
    "        tmp = input_array[pivot_index]\n",
    "        input_array[pivot_index] = input_array[partition_boundary_index-1]\n",
    "        input_array[partition_boundary_index-1] = tmp\n",
    "        ##print(input_array,tmp)\n",
    "        (input_array[:partition_boundary_index-1],left_comparisons) = quick_sort(input_array[:partition_boundary_index-1], pivot_choice)\n",
    "        (input_array[partition_boundary_index:],right_comparisons) = quick_sort(input_array[partition_boundary_index:], pivot_choice)\n",
    "        comparison_count = comparison_count + left_comparisons + right_comparisons\n",
    "        return (input_array,comparison_count)\n",
    "\n",
    "# Solution for the main problem\n",
    "f = open('QuickSort.txt','r')\n",
    "number_list = [int(number.strip()) for number in f.readlines()]\n",
    "print('No. of comparisons in quick sort with FIRST element of each sub array as the pivot element: '+ str(quick_sort(number_list[:],'first')[1]))\n",
    "print('No. of comparisons in quick sort with LAST element of each sub array as the pivot element: '+ str(quick_sort(number_list[:],'last')[1]))\n",
    "print('No. of comparisons in quick sort with Median of first, last and middle elements' + \n",
    "      ' of each sub array as the pivot element: '+ str(quick_sort(number_list[:],'median')[1])\n",
    "     )"
   ]
  },
  {
   "cell_type": "markdown",
   "metadata": {},
   "source": [
    "## Testing the algorithm on a randomized array of integers from 1 to 15. "
   ]
  },
  {
   "cell_type": "code",
   "execution_count": 79,
   "metadata": {},
   "outputs": [
    {
     "name": "stdout",
     "output_type": "stream",
     "text": [
      "Randomized array of integers from 1 to 15: \n",
      "[14, 2, 12, 13, 9, 6, 10, 15, 8, 3, 7, 5, 1, 4, 11]\n",
      "Sorted version with FIRST element as the pivot element: \n",
      "[1, 2, 3, 4, 5, 6, 7, 8, 9, 10, 11, 12, 13, 14, 15]\n",
      "Sorted version with LAST element as the pivot element:  \n",
      "[1, 2, 3, 4, 5, 6, 7, 8, 9, 10, 11, 12, 13, 14, 15]\n",
      "Sorted version with MEDIAN of first, last and middle elements as the pivot element: \n",
      " [1, 2, 3, 4, 5, 6, 7, 8, 9, 10, 11, 12, 13, 14, 15]\n"
     ]
    }
   ],
   "source": [
    "# Test the quick sort algorithm on a few sample arrays. \n",
    "\n",
    "test_array = list(range(1,16))\n",
    "random.shuffle(test_array)\n",
    "\n",
    "\n",
    "print('Randomized array of integers from 1 to 15: \\n' + str(test_array))\n",
    "print('Sorted version with FIRST element as the pivot element: \\n' + str(quick_sort(test_array[:],'first')[0]))\n",
    "print('Sorted version with LAST element as the pivot element:  \\n'+ str(quick_sort(test_array[:],'last')[0]))\n",
    "print('Sorted version with MEDIAN of first, last and middle elements as the pivot element: \\n ' + str(quick_sort(test_array[:],'median')[0]))"
   ]
  }
 ],
 "metadata": {
  "kernelspec": {
   "display_name": "Python 3",
   "language": "python",
   "name": "python3"
  },
  "language_info": {
   "codemirror_mode": {
    "name": "ipython",
    "version": 3
   },
   "file_extension": ".py",
   "mimetype": "text/x-python",
   "name": "python",
   "nbconvert_exporter": "python",
   "pygments_lexer": "ipython3",
   "version": "3.6.1"
  }
 },
 "nbformat": 4,
 "nbformat_minor": 2
}
