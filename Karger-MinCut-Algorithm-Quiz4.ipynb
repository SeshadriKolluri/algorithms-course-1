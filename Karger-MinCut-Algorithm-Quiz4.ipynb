{
 "cells": [
  {
   "cell_type": "markdown",
   "metadata": {},
   "source": [
    "## Quiz 4 Implementation of Karger's algorithm for generating the minimum cut of a graph"
   ]
  },
  {
   "cell_type": "code",
   "execution_count": 93,
   "metadata": {},
   "outputs": [
    {
     "name": "stdout",
     "output_type": "stream",
     "text": [
      "17\n"
     ]
    }
   ],
   "source": [
    "import random, copy\n",
    "\n",
    "f = open('kargerMinCut.txt','r')\n",
    "#f = open('test.txt','r')\n",
    "\n",
    "# The graph is represented as a hash table. \n",
    "# The key is the vertex and the values represent the nodes connected to that vertex\n",
    "\n",
    "original_graph = {}\n",
    "for line in f:\n",
    "    fields = line.strip().split('\\t')\n",
    "    original_graph [fields[0]] = fields[1:]\n",
    "    \n",
    "def collapse_a_node(graph):\n",
    "    if len(graph) <= 2:\n",
    "        sys.exit('Collapse function called on a graph with less than two nodes')\n",
    "    edges = []\n",
    "    for key in graph:    \n",
    "        for value in graph[key]:\n",
    "            edges.append((key,value))\n",
    "    selected_edge = random.choice(edges)\n",
    "    new_node = str(selected_edge[0]) + \"_\" + str(selected_edge[1])\n",
    "    new_connections = graph[selected_edge[0]] + graph[selected_edge[1]]\n",
    "    \n",
    "    #remove self loops\n",
    "    filtered_connections = [x for x in new_connections if x not in selected_edge]\n",
    "    graph[new_node] = filtered_connections\n",
    "    \n",
    "    #delete the collapsed nodes\n",
    "    del graph[selected_edge[0]]\n",
    "    del graph[selected_edge[1]]\n",
    "    \n",
    "    #change the references to old node numbers, to the collapsed node\n",
    "    for key in graph:\n",
    "        for i in range(0,len(graph[key])):\n",
    "            if graph[key][i] in selected_edge:\n",
    "                graph[key][i] = new_node\n",
    "    return graph\n",
    "\n",
    "if len(original_graph) < 2:\n",
    "    print(\"There is no mincut defined for this graph\")\n",
    "    \n",
    "elif len(original_graph) == 2:\n",
    "    print(\"The graph has only two nodes.\")\n",
    "    print(\"# of edges in mincut = 1\")\n",
    "    \n",
    "else:\n",
    "    graph = copy.deepcopy(original_graph)\n",
    "    true_mincut_length = len(graph)*len(graph)\n",
    "    for n in range(1,1000):\n",
    "        #print(n)\n",
    "        graph = copy.deepcopy(original_graph)\n",
    "        while len(graph) > 2:\n",
    "            collapse_a_node(graph)\n",
    "        possible_mincut_length = len(next (iter (graph.values())))\n",
    "        if possible_mincut_length < true_mincut_length:\n",
    "            true_mincut_length = possible_mincut_length\n",
    "            mincut_graph = copy.deepcopy(graph)\n",
    "    print(true_mincut_length)\n",
    "    #print(mincut_graph)\n",
    "            \n",
    "        \n",
    "    \n",
    "\n",
    "\n"
   ]
  }
 ],
 "metadata": {
  "kernelspec": {
   "display_name": "Python 3",
   "language": "python",
   "name": "python3"
  },
  "language_info": {
   "codemirror_mode": {
    "name": "ipython",
    "version": 3
   },
   "file_extension": ".py",
   "mimetype": "text/x-python",
   "name": "python",
   "nbconvert_exporter": "python",
   "pygments_lexer": "ipython3",
   "version": "3.6.1"
  }
 },
 "nbformat": 4,
 "nbformat_minor": 2
}
